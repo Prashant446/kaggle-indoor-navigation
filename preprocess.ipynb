{
 "cells": [
  {
   "cell_type": "code",
   "execution_count": 4,
   "metadata": {},
   "outputs": [],
   "source": [
    "import os\n",
    "import numpy as np\n",
    "import pandas as pd\n",
    "import glob\n",
    "from pathlib import Path\n",
    "\n",
    "datapath = './data/'\n",
    "metapath = datapath + 'metadata/'\n",
    "trainpath = datapath + 'train/'\n",
    "testpath = datapath + 'test/'"
   ]
  },
  {
   "cell_type": "code",
   "execution_count": 5,
   "metadata": {},
   "outputs": [
    {
     "data": {
      "text/plain": [
       "0"
      ]
     },
     "execution_count": 5,
     "metadata": {},
     "output_type": "execute_result"
    }
   ],
   "source": [
    "# Extract testing files, buildings and sites:\n",
    "os.system(f'grep SiteID {testpath}/* > test_buildings.txt' )"
   ]
  },
  {
   "cell_type": "code",
   "execution_count": 6,
   "metadata": {},
   "outputs": [
    {
     "name": "stdout",
     "output_type": "stream",
     "text": [
      "There are 24 buildings in the testing set.\n"
     ]
    },
    {
     "data": {
      "text/html": [
       "<div>\n",
       "<style scoped>\n",
       "    .dataframe tbody tr th:only-of-type {\n",
       "        vertical-align: middle;\n",
       "    }\n",
       "\n",
       "    .dataframe tbody tr th {\n",
       "        vertical-align: top;\n",
       "    }\n",
       "\n",
       "    .dataframe thead th {\n",
       "        text-align: right;\n",
       "    }\n",
       "</style>\n",
       "<table border=\"1\" class=\"dataframe\">\n",
       "  <thead>\n",
       "    <tr style=\"text-align: right;\">\n",
       "      <th></th>\n",
       "      <th>file</th>\n",
       "      <th>building</th>\n",
       "      <th>site</th>\n",
       "    </tr>\n",
       "  </thead>\n",
       "  <tbody>\n",
       "    <tr>\n",
       "      <th>0</th>\n",
       "      <td>./data/test//00ff0c9a71cc37a2ebdd0f05.txt</td>\n",
       "      <td>5da1389e4db8ce0c98bd0547</td>\n",
       "      <td>SiteName:和达城商场</td>\n",
       "    </tr>\n",
       "    <tr>\n",
       "      <th>1</th>\n",
       "      <td>./data/test//01c41f1aeba5c48c2c4dd568.txt</td>\n",
       "      <td>5da138b74db8ce0c98bd4774</td>\n",
       "      <td>SiteName:万象城</td>\n",
       "    </tr>\n",
       "    <tr>\n",
       "      <th>2</th>\n",
       "      <td>./data/test//030b3d94de8acae7c936563d.txt</td>\n",
       "      <td>5da138764db8ce0c98bcaa46</td>\n",
       "      <td>SiteName:银泰百货</td>\n",
       "    </tr>\n",
       "    <tr>\n",
       "      <th>3</th>\n",
       "      <td>./data/test//0389421238a7e2839701df0f.txt</td>\n",
       "      <td>5dbc1d84c1eb61796cf7c010</td>\n",
       "      <td>SiteName:杭州大悦城</td>\n",
       "    </tr>\n",
       "    <tr>\n",
       "      <th>4</th>\n",
       "      <td>./data/test//04029880763600640a0cf42c.txt</td>\n",
       "      <td>5da1383b4db8ce0c98bc11ab</td>\n",
       "      <td>SiteName:永旺梦乐城</td>\n",
       "    </tr>\n",
       "  </tbody>\n",
       "</table>\n",
       "</div>"
      ],
      "text/plain": [
       "                                        file                  building  \\\n",
       "0  ./data/test//00ff0c9a71cc37a2ebdd0f05.txt  5da1389e4db8ce0c98bd0547   \n",
       "1  ./data/test//01c41f1aeba5c48c2c4dd568.txt  5da138b74db8ce0c98bd4774   \n",
       "2  ./data/test//030b3d94de8acae7c936563d.txt  5da138764db8ce0c98bcaa46   \n",
       "3  ./data/test//0389421238a7e2839701df0f.txt  5dbc1d84c1eb61796cf7c010   \n",
       "4  ./data/test//04029880763600640a0cf42c.txt  5da1383b4db8ce0c98bc11ab   \n",
       "\n",
       "             site  \n",
       "0  SiteName:和达城商场  \n",
       "1    SiteName:万象城  \n",
       "2   SiteName:银泰百货  \n",
       "3  SiteName:杭州大悦城  \n",
       "4  SiteName:永旺梦乐城  "
      ]
     },
     "execution_count": 6,
     "metadata": {},
     "output_type": "execute_result"
    }
   ],
   "source": [
    "\n",
    "test_buildings = pd.read_csv('test_buildings.txt',sep='\\t',header=None,names=['file','building','site'])\n",
    "test_buildings['file'] = test_buildings['file'].apply(lambda x: x[:-2])\n",
    "test_buildings['building'] = test_buildings['building'].apply(lambda x: x[7:])\n",
    "\n",
    "# How many buildings in the testing set?\n",
    "buildings = np.unique(test_buildings['building'])\n",
    "print('There are',len(buildings),'buildings in the testing set.')\n",
    "\n",
    "test_buildings.head()"
   ]
  },
  {
   "cell_type": "code",
   "execution_count": null,
   "metadata": {},
   "outputs": [],
   "source": [
    "floors = {\"B3\":-3,\"B2\":-2,\"B1\":-1,\"F1\":0,\"1F\":0,\"F2\":1,\"2F\":1,\"F3\":2,\"3F\":2,\"F4\":3,\"4F\":3,\n",
    "          \"F5\":4,\"5F\":4,\"F6\":5,\"6F\":5,\"F7\":6,\"7F\":6,\"F8\":7,\"8F\": 7,\"F9\":8,\"9F\":8,\"F10\":9}\n",
    "\n",
    "# Other floors:\n",
    "floorsB = {\"B\":0,\"BF\":1,\"BM\":2}\n",
    "floorsG = {\"G\":0}\n",
    "floorsM = {\"M\":0}\n",
    "floorsP = {\"P1\":0,\"P2\":1}\n",
    "floorsL = {\"LG2\":-2,\"LG1\":-1,\"LG\":0,\"LM\":0,\"L1\":1,\"L2\":2,\"L3\":3,\"L4\":4,\"L5\":5,\"L6\":6,\"L7\":7,\"L8\":8,\"L9\":9,\"L10\":10,\"L11\":11}"
   ]
  }
 ],
 "metadata": {
  "kernelspec": {
   "display_name": "Python 3",
   "language": "python",
   "name": "python3"
  },
  "language_info": {
   "codemirror_mode": {
    "name": "ipython",
    "version": 3
   },
   "file_extension": ".py",
   "mimetype": "text/x-python",
   "name": "python",
   "nbconvert_exporter": "python",
   "pygments_lexer": "ipython3",
   "version": "3.6.12"
  }
 },
 "nbformat": 4,
 "nbformat_minor": 2
}
